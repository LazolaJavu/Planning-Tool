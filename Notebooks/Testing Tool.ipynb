{
 "cells": [
  {
   "cell_type": "code",
   "execution_count": 4,
   "id": "ba0845d6",
   "metadata": {},
   "outputs": [
    {
     "name": "stdout",
     "output_type": "stream",
     "text": [
      "Failed to retrieve data. Status code: 401\n"
     ]
    }
   ],
   "source": [
    "import requests\n",
    "\n",
    "# Replace these with your authentication credentials\n",
    "username = \"Lazola\"\n",
    "password = \"729406Laz123!\"\n",
    "\n",
    "url = \"https://crm.smartstart.org.za/SmartStart/api/data/v8.2/iq_franchisors\"\n",
    "\n",
    "# Create a session to manage cookies and authentication\n",
    "session = requests.Session()\n",
    "session.auth = (username, password)\n",
    "\n",
    "response = session.get(url)\n",
    "\n",
    "if response.status_code == 200:\n",
    "    data = response.json()\n",
    "    # Access the 'value' key in the JSON response to get the list of records\n",
    "    records = data['value']\n",
    "    \n",
    "    # Now you can iterate through the records and access the specific data you need\n",
    "    for record in records:\n",
    "        iq_name = record['iq_name']\n",
    "        iq_leadperson = record['iq_leadperson']\n",
    "        iq_totalfranchisees = record['iq_totalfranchisees']\n",
    "        emailaddress = record['emailaddress']\n",
    "        # Add more fields as needed\n",
    "\n",
    "        # Print or process the data as desired\n",
    "        print(f\"Name: {iq_name}\")\n",
    "        print(f\"Lead Person: {iq_leadperson}\")\n",
    "        print(f\"Total Franchisees: {iq_totalfranchisees}\")\n",
    "        print(f\"Email Address: {emailaddress}\")\n",
    "        print(\"\\n\")\n",
    "else:\n",
    "    print(f\"Failed to retrieve data. Status code: {response.status_code}\")\n"
   ]
  },
  {
   "cell_type": "code",
   "execution_count": null,
   "id": "935b4467",
   "metadata": {},
   "outputs": [],
   "source": []
  }
 ],
 "metadata": {
  "kernelspec": {
   "display_name": "Python 3 (ipykernel)",
   "language": "python",
   "name": "python3"
  },
  "language_info": {
   "codemirror_mode": {
    "name": "ipython",
    "version": 3
   },
   "file_extension": ".py",
   "mimetype": "text/x-python",
   "name": "python",
   "nbconvert_exporter": "python",
   "pygments_lexer": "ipython3",
   "version": "3.9.13"
  }
 },
 "nbformat": 4,
 "nbformat_minor": 5
}
